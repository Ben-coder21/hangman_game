{
 "cells": [
  {
   "cell_type": "code",
   "execution_count": 1,
   "id": "9152bae8-a1ab-43e8-bbf4-3452689062de",
   "metadata": {},
   "outputs": [],
   "source": [
    "def input_grades():\n",
    "    grades = {}\n",
    "    \n",
    "    num_subjects = int(input(\"Enter the number of subjects: \"))\n",
    "    \n",
    "    for _ in range(num_subjects):\n",
    "        \n",
    "        subject = input(\"Enter the subject name: \")\n",
    "        grade = float(input(f\"Enter the grade for {subject}: \"))\n",
    "        \n",
    "        grades[subject] = grade\n",
    "    \n",
    "    return grades\n",
    "\n"
   ]
  },
  {
   "cell_type": "code",
   "execution_count": null,
   "id": "3409ac3a-65fc-4c51-8779-7a0109383c3c",
   "metadata": {},
   "outputs": [],
   "source": [
    "def calculate_average(grades):\n",
    "    total = sum(grades.values())\n",
    "    average = total / len(grades)\n",
    "    return average\n",
    "\n",
    "def display_grades(grades, average):\n",
    "    print(\"\\n--- Student Grades ---\")\n",
    "    for subject, grade in grades.items():\n",
    "        print(f\"{subject}: {grade}\")\n",
    "    \n",
    "    print(f\"\\nAverage Grade: {average:.2f}\")\n",
    "\n",
    "def grade_tracker():\n",
    "    print(\"Welcome to the Student Grade Tracker\")\n",
    "    \n",
    "    grades = input_grades()\n",
    "    average = calculate_average(grades)\n",
    "    \n",
    "    \n",
    "    display_grades(grades, average)\n",
    "\n",
    "\n",
    "grade_tracker()\n"
   ]
  }
 ],
 "metadata": {
  "kernelspec": {
   "display_name": "Python 3 (ipykernel)",
   "language": "python",
   "name": "python3"
  },
  "language_info": {
   "codemirror_mode": {
    "name": "ipython",
    "version": 3
   },
   "file_extension": ".py",
   "mimetype": "text/x-python",
   "name": "python",
   "nbconvert_exporter": "python",
   "pygments_lexer": "ipython3",
   "version": "3.11.7"
  }
 },
 "nbformat": 4,
 "nbformat_minor": 5
}
