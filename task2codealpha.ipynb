{
 "cells": [
  {
   "cell_type": "code",
   "execution_count": 5,
   "id": "a0eadf2e-c0c3-44ab-ac31-b56ef98c1f72",
   "metadata": {},
   "outputs": [],
   "source": [
    "import random\n",
    "words = ['python', 'java', 'hangman', 'programming', 'algorithm', 'challenge', 'developer']\n",
    "\n",
    "word_to_guess = random.choice(words)\n",
    "guessed_word = ['_'] * len(word_to_guess)\n",
    "guessed_letters = set()\n",
    "attempts = 6\n"
   ]
  },
  {
   "cell_type": "code",
   "execution_count": 6,
   "id": "94293cf1-1233-406b-b7e0-a098c9a45d6d",
   "metadata": {},
   "outputs": [
    {
     "name": "stdout",
     "output_type": "stream",
     "text": [
      "Welcome to Hangman!\n",
      "You have 6 attempts to guess the word.\n",
      "\n",
      "Current word:  _ _ _ _ _ _ _\n"
     ]
    },
    {
     "name": "stdin",
     "output_type": "stream",
     "text": [
      "Guess a letter:  h\n"
     ]
    },
    {
     "name": "stdout",
     "output_type": "stream",
     "text": [
      "Good job! h is in the word.\n",
      "\n",
      "Current word:  h _ _ _ _ _ _\n"
     ]
    },
    {
     "name": "stdin",
     "output_type": "stream",
     "text": [
      "Guess a letter:  a\n"
     ]
    },
    {
     "name": "stdout",
     "output_type": "stream",
     "text": [
      "Good job! a is in the word.\n",
      "\n",
      "Current word:  h a _ _ _ a _\n"
     ]
    },
    {
     "name": "stdin",
     "output_type": "stream",
     "text": [
      "Guess a letter:  p\n"
     ]
    },
    {
     "name": "stdout",
     "output_type": "stream",
     "text": [
      "Sorry, p is not in the word. You have 5 attempts left.\n",
      "\n",
      "Current word:  h a _ _ _ a _\n"
     ]
    },
    {
     "name": "stdin",
     "output_type": "stream",
     "text": [
      "Guess a letter:  n\n"
     ]
    },
    {
     "name": "stdout",
     "output_type": "stream",
     "text": [
      "Good job! n is in the word.\n",
      "\n",
      "Current word:  h a n _ _ a n\n"
     ]
    },
    {
     "name": "stdin",
     "output_type": "stream",
     "text": [
      "Guess a letter:  g\n"
     ]
    },
    {
     "name": "stdout",
     "output_type": "stream",
     "text": [
      "Good job! g is in the word.\n",
      "\n",
      "Current word:  h a n g _ a n\n"
     ]
    },
    {
     "name": "stdin",
     "output_type": "stream",
     "text": [
      "Guess a letter:  u\n"
     ]
    },
    {
     "name": "stdout",
     "output_type": "stream",
     "text": [
      "Sorry, u is not in the word. You have 4 attempts left.\n",
      "\n",
      "Current word:  h a n g _ a n\n"
     ]
    },
    {
     "name": "stdin",
     "output_type": "stream",
     "text": [
      "Guess a letter:  r\n"
     ]
    },
    {
     "name": "stdout",
     "output_type": "stream",
     "text": [
      "Sorry, r is not in the word. You have 3 attempts left.\n",
      "\n",
      "Current word:  h a n g _ a n\n"
     ]
    },
    {
     "name": "stdin",
     "output_type": "stream",
     "text": [
      "Guess a letter:  n\n"
     ]
    },
    {
     "name": "stdout",
     "output_type": "stream",
     "text": [
      "You've already guessed that letter. Try again.\n",
      "\n",
      "Current word:  h a n g _ a n\n"
     ]
    },
    {
     "name": "stdin",
     "output_type": "stream",
     "text": [
      "Guess a letter:  d\n"
     ]
    },
    {
     "name": "stdout",
     "output_type": "stream",
     "text": [
      "Sorry, d is not in the word. You have 2 attempts left.\n",
      "\n",
      "Current word:  h a n g _ a n\n"
     ]
    },
    {
     "name": "stdin",
     "output_type": "stream",
     "text": [
      "Guess a letter:  b\n"
     ]
    },
    {
     "name": "stdout",
     "output_type": "stream",
     "text": [
      "Sorry, b is not in the word. You have 1 attempts left.\n",
      "\n",
      "Current word:  h a n g _ a n\n"
     ]
    },
    {
     "name": "stdin",
     "output_type": "stream",
     "text": [
      "Guess a letter:  u\n"
     ]
    },
    {
     "name": "stdout",
     "output_type": "stream",
     "text": [
      "You've already guessed that letter. Try again.\n",
      "\n",
      "Current word:  h a n g _ a n\n"
     ]
    },
    {
     "name": "stdin",
     "output_type": "stream",
     "text": [
      "Guess a letter:  t\n"
     ]
    },
    {
     "name": "stdout",
     "output_type": "stream",
     "text": [
      "Sorry, t is not in the word. You have 0 attempts left.\n",
      "\n",
      "You've run out of attempts! The word was: hangman\n"
     ]
    }
   ],
   "source": [
    "print(\"Welcome to Hangman!\")\n",
    "print(\"You have\", attempts, \"attempts to guess the word.\")\n",
    "  \n",
    "while attempts > 0:\n",
    "        print(\"\\nCurrent word: \", \" \".join(guessed_word))\n",
    "        guess = input(\"Guess a letter: \").lower()\n",
    "\n",
    "        if len(guess) != 1 or not guess.isalpha():\n",
    "            print(\"Please enter a single valid letter.\")\n",
    "            continue\n",
    "\n",
    "        if guess in guessed_letters:\n",
    "            print(\"You've already guessed that letter. Try again.\")\n",
    "            continue\n",
    "\n",
    "        guessed_letters.add(guess)\n",
    "\n",
    "        if guess in word_to_guess:\n",
    "            print(f\"Good job! {guess} is in the word.\")\n",
    "            for idx, letter in enumerate(word_to_guess):\n",
    "                if letter == guess:\n",
    "                    guessed_word[idx] = guess\n",
    "        else:\n",
    "            attempts -= 1\n",
    "            print(f\"Sorry, {guess} is not in the word. You have {attempts} attempts left.\")\n",
    "\n",
    "        if '_' not in guessed_word:\n",
    "            print(\"\\nCongratulations! You guessed the word:\", word_to_guess)\n",
    "            break\n",
    "else:\n",
    "        print(\"\\nYou've run out of attempts! The word was:\", word_to_guess)\n",
    "\n"
   ]
  },
  {
   "cell_type": "code",
   "execution_count": null,
   "id": "5f20206a-8a4f-45c2-a97b-03e237f27164",
   "metadata": {},
   "outputs": [],
   "source": []
  },
  {
   "cell_type": "code",
   "execution_count": null,
   "id": "9c67b934-21c2-4629-9ff9-f2e3587c9a16",
   "metadata": {},
   "outputs": [],
   "source": []
  },
  {
   "cell_type": "code",
   "execution_count": null,
   "id": "705cedfe-2f8c-48a0-b5f9-2a907c425090",
   "metadata": {},
   "outputs": [],
   "source": []
  }
 ],
 "metadata": {
  "kernelspec": {
   "display_name": "Python 3 (ipykernel)",
   "language": "python",
   "name": "python3"
  },
  "language_info": {
   "codemirror_mode": {
    "name": "ipython",
    "version": 3
   },
   "file_extension": ".py",
   "mimetype": "text/x-python",
   "name": "python",
   "nbconvert_exporter": "python",
   "pygments_lexer": "ipython3",
   "version": "3.11.7"
  }
 },
 "nbformat": 4,
 "nbformat_minor": 5
}
